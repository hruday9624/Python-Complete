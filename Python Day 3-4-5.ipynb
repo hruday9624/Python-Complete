{
 "cells": [
  {
   "cell_type": "markdown",
   "id": "12d7f6ff",
   "metadata": {},
   "source": [
    "## Table of Contents\n",
    "\n",
    "1. [Python Strings and In built functions](#Python-Strings-&-In-built-Functions)\n",
    "2. [Python List & In built functions](#Lists-&-In-built-Functions)\n",
    "3. [Python Sets & In built functions](#Sets-&-In-built-Functions)\n",
    "4. [Python Tuples & In built functions](#Tuples-&-In-built-Functions)\n",
    "5. [Python Dictionaries & In built function](#Dictionaries-&-In-built-functions)"
   ]
  },
  {
   "cell_type": "code",
   "execution_count": 102,
   "id": "f7771522",
   "metadata": {},
   "outputs": [],
   "source": [
    "## Note: There are many in built functions or methods but,\n",
    "# Most used methods are mentioned. "
   ]
  },
  {
   "cell_type": "markdown",
   "id": "32af6a99",
   "metadata": {},
   "source": [
    "## Variables\n",
    "\n",
    "- Variables are containers which contains data/information.\n",
    "- Data within a variable can be varry and so it is called variable.\n",
    "- We cannot use keywords as variable names.\n",
    "- Variables are case sensitive.\n",
    "- Spaces won't work in a variable name."
   ]
  },
  {
   "cell_type": "code",
   "execution_count": 1,
   "id": "f8cb1a13",
   "metadata": {},
   "outputs": [
    {
     "name": "stdout",
     "output_type": "stream",
     "text": [
      "Welcome Hruday, I hope you are doing well\n",
      "256\n"
     ]
    }
   ],
   "source": [
    "invitation = 'Welcome Hruday, I hope you are doing well'\n",
    "#Here invitation is a variable containing information \n",
    "\n",
    "Marks = 256 \n",
    "#Here in this case Marks is a variable\n",
    "\n",
    "print(invitation)\n",
    "print(Marks)"
   ]
  },
  {
   "cell_type": "markdown",
   "id": "32fccdd4",
   "metadata": {},
   "source": [
    "## Python Strings & In built Functions\n",
    "\n",
    "- Strings are used to store text data in python. \n",
    "\n",
    "- They are surrounded by single or double quotation marks, ' ' , \" \".  \n",
    "\n",
    "- Python strings are immutable, anyway we can replace the string in a variable but we cannot change any alphabet in a current string or text. \n",
    "\n",
    "- To store multiple strings in a single variable we can use triple quotation marks''' '''. \n",
    "\n",
    "- We can use + symbol to concat two strings.\n",
    "\n",
    "- We cannot concatinate a string and a number(int type), but in order to perform this operation we should convert the number into a string.  \n"
   ]
  },
  {
   "cell_type": "code",
   "execution_count": 2,
   "id": "39324b24",
   "metadata": {},
   "outputs": [
    {
     "name": "stdout",
     "output_type": "stream",
     "text": [
      "Original String:   choti BhaCHi HO KYA? \n",
      "Capitalized String:   choti bhachi ho kya? \n"
     ]
    }
   ],
   "source": [
    "# CAPITALIZE()\n",
    "## This function capitalizes the first letter of the string and lowercases the other letters of the string\n",
    "\n",
    "a = ' choti BhaCHi HO KYA? '\n",
    "print('Original String: ', a)\n",
    "print('Capitalized String: ', a.capitalize())"
   ]
  },
  {
   "cell_type": "code",
   "execution_count": 3,
   "id": "70955408",
   "metadata": {},
   "outputs": [
    {
     "name": "stdout",
     "output_type": "stream",
     "text": [
      "Original String:   choti BhaCHi HO KYA? \n",
      "Lowercased string:   choti bhachi ho kya? \n",
      "---x Lowercase Method(lower()) x---\n",
      "lowercase method:   choti bhachi ho kya? \n"
     ]
    }
   ],
   "source": [
    "# Casefold(), and lower() both these method are used to lower the strings\n",
    "\n",
    "print('Original String: ', a)\n",
    "print('Lowercased string: ', a.casefold())\n",
    "\n",
    "print('---x Lowercase Method(lower()) x---')\n",
    "\n",
    "print('lowercase method: ', a.lower())"
   ]
  },
  {
   "cell_type": "code",
   "execution_count": 4,
   "id": "6d38202c",
   "metadata": {},
   "outputs": [
    {
     "name": "stdout",
     "output_type": "stream",
     "text": [
      "Original String:  choti BhaCHi HO KYA? \n",
      "Stripped string: choti BhaCHi HO KYA?\n"
     ]
    }
   ],
   "source": [
    "# Strip method -> This method removes any white spaces present in the begining and the ending of the string\n",
    "\n",
    "print('Original String:', a) \n",
    "#returns ' choti BhaCHi HO KYA? ' -> notice the white spaces. \n",
    "\n",
    "print('Stripped string:',a.strip()) \n",
    "#returns 'choti BhaCHi HO KYA?' -> Notice the removed white spaces. "
   ]
  },
  {
   "cell_type": "code",
   "execution_count": 5,
   "id": "9cc8dfdc",
   "metadata": {},
   "outputs": [
    {
     "name": "stdout",
     "output_type": "stream",
     "text": [
      "Original String:  choti BhaCHi HO KYA? \n",
      "Replaced string:   badi BhaCHi HO KYA? \n"
     ]
    }
   ],
   "source": [
    "# Replace method -> This method replaces the exsiting string with the given string. \n",
    "\n",
    "print('Original String:', a) #Original string\n",
    "\n",
    "print('Replaced string: ', a.replace('choti','badi')) \n",
    "# Replaces choti->badi"
   ]
  },
  {
   "cell_type": "code",
   "execution_count": 6,
   "id": "67dbef20",
   "metadata": {},
   "outputs": [
    {
     "name": "stdout",
     "output_type": "stream",
     "text": [
      "Original String:  choti BhaCHi HO KYA? \n",
      "The splitted string:  [' c', 'oti B', 'aCHi HO KYA? ']\n"
     ]
    }
   ],
   "source": [
    "# Split method seperate the exsisting into substrings based on given instances of seperator\n",
    "\n",
    "print('Original String:', a) #Original string\n",
    "\n",
    "print('The splitted string: ',a.split('h'))\n",
    "# Splits the string into substring based on instance seperator 'h' as mentioned. "
   ]
  },
  {
   "cell_type": "code",
   "execution_count": 7,
   "id": "291278e9",
   "metadata": {},
   "outputs": [
    {
     "data": {
      "text/plain": [
       "22"
      ]
     },
     "execution_count": 7,
     "metadata": {},
     "output_type": "execute_result"
    }
   ],
   "source": [
    "# Len() method gives the length of the string\n",
    "len(a)"
   ]
  },
  {
   "cell_type": "code",
   "execution_count": 8,
   "id": "9e7dc214",
   "metadata": {},
   "outputs": [
    {
     "data": {
      "text/plain": [
       "'MunnaBhaiMBBS'"
      ]
     },
     "execution_count": 8,
     "metadata": {},
     "output_type": "execute_result"
    }
   ],
   "source": [
    "# String Concatination: Two concat two strings we can use + \n",
    "\n",
    "a1 = 'Munna'\n",
    "a2 = 'Bhai'\n",
    "a3 = 'MBBS'\n",
    "\n",
    "Sanju_Dada = a1+a2+a3\n",
    "\n",
    "Sanju_Dada "
   ]
  },
  {
   "cell_type": "code",
   "execution_count": 9,
   "id": "4ae0469f",
   "metadata": {},
   "outputs": [
    {
     "data": {
      "text/plain": [
       "'MunnaBhai MBBS'"
      ]
     },
     "execution_count": 9,
     "metadata": {},
     "output_type": "execute_result"
    }
   ],
   "source": [
    "#To give space between concatination we follow the bellow procedure\n",
    "sanju_dada = a1+a2+' '+a3 \n",
    "\n",
    "sanju_dada"
   ]
  },
  {
   "cell_type": "code",
   "execution_count": 10,
   "id": "9c145fd9",
   "metadata": {},
   "outputs": [
    {
     "ename": "TypeError",
     "evalue": "can only concatenate str (not \"int\") to str",
     "output_type": "error",
     "traceback": [
      "\u001b[1;31m---------------------------------------------------------------------------\u001b[0m",
      "\u001b[1;31mTypeError\u001b[0m                                 Traceback (most recent call last)",
      "\u001b[1;32m<ipython-input-10-dbe9c46bf151>\u001b[0m in \u001b[0;36m<module>\u001b[1;34m\u001b[0m\n\u001b[0;32m      3\u001b[0m \u001b[0mrelease_date\u001b[0m \u001b[1;33m=\u001b[0m \u001b[1;36m24\u001b[0m\u001b[1;33m\u001b[0m\u001b[1;33m\u001b[0m\u001b[0m\n\u001b[0;32m      4\u001b[0m \u001b[1;33m\u001b[0m\u001b[0m\n\u001b[1;32m----> 5\u001b[1;33m \u001b[0mtest\u001b[0m \u001b[1;33m=\u001b[0m \u001b[1;34m'Pushpa movie releases on: '\u001b[0m \u001b[1;33m+\u001b[0m \u001b[0mrelease_date\u001b[0m\u001b[1;33m\u001b[0m\u001b[1;33m\u001b[0m\u001b[0m\n\u001b[0m\u001b[0;32m      6\u001b[0m \u001b[1;31m#This will throw an error\u001b[0m\u001b[1;33m\u001b[0m\u001b[1;33m\u001b[0m\u001b[1;33m\u001b[0m\u001b[0m\n",
      "\u001b[1;31mTypeError\u001b[0m: can only concatenate str (not \"int\") to str"
     ]
    }
   ],
   "source": [
    "# We cannot combine strings and numbers like this:\n",
    "\n",
    "release_date = 24\n",
    "\n",
    "test = 'Pushpa movie releases on: ' + release_date\n",
    "#This will throw an error"
   ]
  },
  {
   "cell_type": "code",
   "execution_count": 11,
   "id": "7c4fdb1f",
   "metadata": {},
   "outputs": [
    {
     "name": "stdout",
     "output_type": "stream",
     "text": [
      "Have you watched Pushpa, released on 24th last month\n"
     ]
    }
   ],
   "source": [
    "# String format -> We can combine numbers with strings with the help of format method\n",
    "# Here the passed arguments are formatted and placed where {} are there. \n",
    "\n",
    "movie_name = 'Pushpa'\n",
    "release_date = 24\n",
    "\n",
    "print('Have you watched {}, released on {}th last month'.format(movie_name, release_date))\n",
    "# We can see that we have placed a numerical 24 into a string using format"
   ]
  },
  {
   "cell_type": "code",
   "execution_count": 12,
   "id": "8f2166a6",
   "metadata": {},
   "outputs": [
    {
     "name": "stdout",
     "output_type": "stream",
     "text": [
      "True\n"
     ]
    }
   ],
   "source": [
    "# Check String\n",
    "print('KYA' in a)"
   ]
  },
  {
   "cell_type": "code",
   "execution_count": 13,
   "id": "903bdc64",
   "metadata": {},
   "outputs": [
    {
     "name": "stdout",
     "output_type": "stream",
     "text": [
      "False\n"
     ]
    }
   ],
   "source": [
    "# Check if NOT\n",
    "print('KYA' not in a)"
   ]
  },
  {
   "cell_type": "markdown",
   "id": "a31db2d5",
   "metadata": {},
   "source": [
    "## Lists & In built Functions\n",
    "\n",
    "- Lists are used to store collections of data in a single variable. \n",
    "- Lists are created using square brackets [ ].\n",
    "- List is one of the 4 built-in data types available in Python. \n",
    "- List items are changeable, ordered, allow duplicates and allow different data types.\n",
    "- Like Integer, Strings, Boolean.\n",
    "- List items are indexed and starts from 0. \n",
    "- We can use index number for accesing the items. We can also use negative indexing."
   ]
  },
  {
   "cell_type": "code",
   "execution_count": 14,
   "id": "5f4076bb",
   "metadata": {},
   "outputs": [],
   "source": [
    "marks_finals = [55, 68, 94, 72, 35, 63]\n",
    "\n",
    "usernames = ['remo_96','Raja mouli', 894, 'Raja mouli', 'Tiger ana', 643, True]\n",
    "\n",
    "#Notice -> 'Raja_mouli' is duplicated item in the list usernames\n",
    "#Also in the list usernames we can observe that all data types are available"
   ]
  },
  {
   "cell_type": "code",
   "execution_count": 15,
   "id": "5b3f8673",
   "metadata": {},
   "outputs": [
    {
     "data": {
      "text/plain": [
       "7"
      ]
     },
     "execution_count": 15,
     "metadata": {},
     "output_type": "execute_result"
    }
   ],
   "source": [
    "len(usernames)"
   ]
  },
  {
   "cell_type": "code",
   "execution_count": 16,
   "id": "4a05a8af",
   "metadata": {},
   "outputs": [
    {
     "data": {
      "text/plain": [
       "list"
      ]
     },
     "execution_count": 16,
     "metadata": {},
     "output_type": "execute_result"
    }
   ],
   "source": [
    "type(marks_finals)"
   ]
  },
  {
   "cell_type": "code",
   "execution_count": 17,
   "id": "24024137",
   "metadata": {},
   "outputs": [
    {
     "name": "stdout",
     "output_type": "stream",
     "text": [
      "Raja mouli\n",
      "xxx---xxxx\n",
      "63\n"
     ]
    }
   ],
   "source": [
    "# Accesing items\n",
    "print(usernames[3])\n",
    "print('xxx---xxxx')\n",
    "print(marks_finals[-1])"
   ]
  },
  {
   "cell_type": "code",
   "execution_count": 18,
   "id": "27b9f20a",
   "metadata": {},
   "outputs": [
    {
     "name": "stdout",
     "output_type": "stream",
     "text": [
      "Existing List:  ['remo_96', 'Raja mouli', 894, 'Raja mouli', 'Tiger ana', 643, True]\n",
      "Updated List:  ['remo_96', 'Raja mouli', 894, 'Prakash Raj', 'Raja mouli', 'Tiger ana', 643, True]\n"
     ]
    }
   ],
   "source": [
    "## Insert Items\n",
    "\n",
    "print('Existing List: ', usernames)\n",
    "usernames.insert(3, 'Prakash Raj')\n",
    "\n",
    "print('Updated List: ', usernames)"
   ]
  },
  {
   "cell_type": "code",
   "execution_count": 19,
   "id": "2bd089ea",
   "metadata": {},
   "outputs": [
    {
     "name": "stdout",
     "output_type": "stream",
     "text": [
      "Exisiting List:  [55, 68, 94, 72, 35, 63]\n",
      "Updated List:  [55, 68, 94, 72, 35, 63, 12]\n"
     ]
    }
   ],
   "source": [
    "## Append Items -> To append an item in the end of the list we use append() method\n",
    "print('Exisiting List: ', marks_finals)\n",
    "\n",
    "marks_finals.append(12) #12 gets appended in the end of the list\n",
    "\n",
    "print('Updated List: ', marks_finals)"
   ]
  },
  {
   "cell_type": "code",
   "execution_count": 20,
   "id": "903da0ad",
   "metadata": {},
   "outputs": [
    {
     "name": "stdout",
     "output_type": "stream",
     "text": [
      "marks_finals:  [55, 68, 94, 72, 35, 63, 12]\n",
      "usernames:  ['remo_96', 'Raja mouli', 894, 'Prakash Raj', 'Raja mouli', 'Tiger ana', 643, True]\n",
      "usernames:  ['remo_96', 'Raja mouli', 894, 'Prakash Raj', 'Raja mouli', 'Tiger ana', 643, True, 55, 68, 94, 72, 35, 63, 12]\n"
     ]
    }
   ],
   "source": [
    "## Extend List -> To append items from another list we use Extend method. \n",
    "## We can use extend to iterate any data type with lists\n",
    "\n",
    "print('marks_finals: ', marks_finals)\n",
    "print('usernames: ', usernames)\n",
    "\n",
    "#we are now appending items from marks_finals to usernames\n",
    "usernames.extend(marks_finals)\n",
    "\n",
    "print('usernames: ',usernames)"
   ]
  },
  {
   "cell_type": "code",
   "execution_count": 21,
   "id": "3c21c3fe",
   "metadata": {},
   "outputs": [
    {
     "name": "stdout",
     "output_type": "stream",
     "text": [
      "List:  ['remo_96', 'Raja mouli', 894, 'Prakash Raj', 'Raja mouli', 'Tiger ana', 643, True, 55, 68, 94, 72, 35, 63, 12]\n",
      "Updated usernames:  ['remo_96', 'Raja mouli', 894, 'Prakash Raj', 'Raja mouli', 'Tiger ana', True, 55, 68, 94, 72, 35, 63, 12]\n"
     ]
    }
   ],
   "source": [
    "## Remove() -> This method removes specified item\n",
    "\n",
    "print('List: ', usernames)\n",
    "\n",
    "usernames.remove(643) \n",
    "# This removes 643 number in btn Tiger ana & True\n",
    "\n",
    "print('Updated usernames: ', usernames)"
   ]
  },
  {
   "cell_type": "code",
   "execution_count": 22,
   "id": "6eda821f",
   "metadata": {},
   "outputs": [
    {
     "name": "stdout",
     "output_type": "stream",
     "text": [
      "marks_finals:  [55, 68, 94, 72, 35, 63, 12]\n",
      "Poped_list:  [55, 68, 94, 35, 63, 12]\n"
     ]
    }
   ],
   "source": [
    "## Pop() -> To remove an item using specified index we use pop()\n",
    "\n",
    "print('marks_finals: ', marks_finals)\n",
    "\n",
    "marks_finals.pop(3)\n",
    "# This will remove the item on the 3rd index from start 72\n",
    "\n",
    "print('Poped_list: ', marks_finals)"
   ]
  },
  {
   "cell_type": "code",
   "execution_count": 23,
   "id": "f5d2cc2c",
   "metadata": {},
   "outputs": [
    {
     "name": "stdout",
     "output_type": "stream",
     "text": [
      "Index_del:  ['bird', 'reptile', 'human']\n"
     ]
    }
   ],
   "source": [
    "## Del() -> We can also use del() to remove an item using index or even a complete list\n",
    "\n",
    "fox = ['animal','bird', 'reptile', 'human']\n",
    "\n",
    "del(fox[0]) \n",
    "## This will remove animal zeroth index\n",
    "print('Index_del: ', fox)\n",
    "\n",
    "del fox\n",
    "# this will delete the entire list\n",
    "# We will try to print fox in next cell which will throw an error"
   ]
  },
  {
   "cell_type": "code",
   "execution_count": 24,
   "id": "e4de83be",
   "metadata": {},
   "outputs": [
    {
     "ename": "NameError",
     "evalue": "name 'fox' is not defined",
     "output_type": "error",
     "traceback": [
      "\u001b[1;31m---------------------------------------------------------------------------\u001b[0m",
      "\u001b[1;31mNameError\u001b[0m                                 Traceback (most recent call last)",
      "\u001b[1;32m<ipython-input-24-c3f7b3e62438>\u001b[0m in \u001b[0;36m<module>\u001b[1;34m\u001b[0m\n\u001b[1;32m----> 1\u001b[1;33m \u001b[0mprint\u001b[0m\u001b[1;33m(\u001b[0m\u001b[0mfox\u001b[0m\u001b[1;33m)\u001b[0m\u001b[1;33m\u001b[0m\u001b[1;33m\u001b[0m\u001b[0m\n\u001b[0m\u001b[0;32m      2\u001b[0m \u001b[1;31m## As we have deleted the complete list using del.\u001b[0m\u001b[1;33m\u001b[0m\u001b[1;33m\u001b[0m\u001b[1;33m\u001b[0m\u001b[0m\n\u001b[0;32m      3\u001b[0m \u001b[1;31m## We are getting an error now as the list got deleated.\u001b[0m\u001b[1;33m\u001b[0m\u001b[1;33m\u001b[0m\u001b[1;33m\u001b[0m\u001b[0m\n",
      "\u001b[1;31mNameError\u001b[0m: name 'fox' is not defined"
     ]
    }
   ],
   "source": [
    "print(fox)\n",
    "## As we have deleted the complete list using del.\n",
    "## We are getting an error now as the list got deleated."
   ]
  },
  {
   "cell_type": "code",
   "execution_count": 25,
   "id": "74540d54",
   "metadata": {},
   "outputs": [
    {
     "name": "stdout",
     "output_type": "stream",
     "text": [
      "gang:  ['Liger', 'Shooter', 'Escapist', 'Street fighter']\n",
      "Cleared list:  []\n"
     ]
    }
   ],
   "source": [
    "## Clear() -> This method empties the list and returns us the empty list.\n",
    "\n",
    "gang = ['Liger', 'Shooter', 'Escapist', 'Street fighter']\n",
    "\n",
    "print('gang: ', gang)\n",
    "\n",
    "gang.clear()\n",
    "print('Cleared list: ', gang)"
   ]
  },
  {
   "cell_type": "code",
   "execution_count": 26,
   "id": "bf4526ab",
   "metadata": {},
   "outputs": [
    {
     "name": "stdout",
     "output_type": "stream",
     "text": [
      "Sorted_ani:  ['cow', 'dog', 'hippo', 'lion', 'tiger', 'zebra']\n",
      "Sorted_numbs:  [1, 3, 38, 39, 43, 56, 75, 99]\n"
     ]
    }
   ],
   "source": [
    "## Sort() -> As the names says this function will sort \n",
    "\n",
    "animals = ['cow', 'lion', \"tiger\", 'dog', 'hippo', 'zebra']\n",
    "numbs = [56, 99, 1, 43, 38, 3, 75, 39]\n",
    "\n",
    "animals.sort()\n",
    "numbs.sort()\n",
    "\n",
    "print('Sorted_ani: ', animals)\n",
    "print('Sorted_numbs: ', numbs)"
   ]
  },
  {
   "cell_type": "code",
   "execution_count": 27,
   "id": "956e1cec",
   "metadata": {},
   "outputs": [
    {
     "name": "stdout",
     "output_type": "stream",
     "text": [
      "Sorted_ani:  ['zebra', 'tiger', 'lion', 'hippo', 'dog', 'cow']\n",
      "Sorted_numbs:  [99, 75, 56, 43, 39, 38, 3, 1]\n"
     ]
    }
   ],
   "source": [
    "## To sort() in decending \n",
    "\n",
    "animals.sort(reverse=True)\n",
    "numbs.sort(reverse=True)\n",
    "\n",
    "print('Sorted_ani: ', animals)\n",
    "print('Sorted_numbs: ', numbs)"
   ]
  },
  {
   "cell_type": "code",
   "execution_count": 28,
   "id": "e7dc6d50",
   "metadata": {},
   "outputs": [
    {
     "name": "stdout",
     "output_type": "stream",
     "text": [
      "Copied list:  ['one+', 'iPhone', 'Realme', 'Samsung']\n"
     ]
    }
   ],
   "source": [
    "## Copy() -> This method is used to copy a list into a new variable\n",
    "# We cannot copy a list simply by typing list2 = list1, because: list2 will only be a reference to list1. \n",
    "# And changes made in list1 will automatically also be made in list2.\n",
    "# There are ways to make a copy, one way is to use the built-in List method copy().\n",
    "\n",
    "\n",
    "mobiles = ['one+', 'iPhone', 'Realme', 'Samsung']\n",
    "\n",
    "phones = mobiles.copy()\n",
    "\n",
    "print('Copied list: ', phones)"
   ]
  },
  {
   "cell_type": "code",
   "execution_count": 29,
   "id": "f15c1368",
   "metadata": {},
   "outputs": [
    {
     "name": "stdout",
     "output_type": "stream",
     "text": [
      "['one+', 'iPhone', 'Realme', 'Samsung']\n"
     ]
    }
   ],
   "source": [
    "## We can also use built in method list() to copy\n",
    "\n",
    "smartphones = list(phones)\n",
    "\n",
    "print(smartphones)"
   ]
  },
  {
   "cell_type": "markdown",
   "id": "7f29836a",
   "metadata": {},
   "source": [
    "## Sets & In built Functions\n",
    "\n",
    "- Sets are almost like lists and used to store multiple items in a single variable.\n",
    "\n",
    "- A set is a collection which is unordered, unchangeable*, and unindexed. So duplicates are not allowed.\n",
    "\n",
    "- Set is one of 4 built-in data types in Python used to store collections of data, the other 3 are List, Tuple, and Dictionary, all with different qualities and usage.\n",
    "\n",
    "- Sets are written with curly brackets."
   ]
  },
  {
   "cell_type": "code",
   "execution_count": 79,
   "id": "d41a2557",
   "metadata": {},
   "outputs": [
    {
     "name": "stdout",
     "output_type": "stream",
     "text": [
      "{'Scrambled Eggs', 'Dosa', 'Pongal', 'Parota', 'Idly', 'Chapathi'}\n"
     ]
    }
   ],
   "source": [
    "breakfast = {'Idly', 'Dosa', 'Pongal', 'Chapathi', 'Parota', 'Scrambled Eggs'}\n",
    "print(breakfast)"
   ]
  },
  {
   "cell_type": "code",
   "execution_count": 80,
   "id": "e48906ee",
   "metadata": {},
   "outputs": [
    {
     "data": {
      "text/plain": [
       "{'Chapathi', 'Dosa', 'Idly', 'Parota', 'Pongal', 'Scrambled Eggs'}"
      ]
     },
     "execution_count": 80,
     "metadata": {},
     "output_type": "execute_result"
    }
   ],
   "source": [
    "breakfast "
   ]
  },
  {
   "cell_type": "code",
   "execution_count": 81,
   "id": "6fd9e545",
   "metadata": {},
   "outputs": [],
   "source": [
    "## From above two cells we can notice that the same set returning different ordered items.\n",
    "## And because of this we cannot use indexing as well."
   ]
  },
  {
   "cell_type": "code",
   "execution_count": 82,
   "id": "0f1e7229",
   "metadata": {},
   "outputs": [],
   "source": [
    "sports = {'Cricket', 'foot ball', 'hockey', 'foot ball'}\n",
    "\n",
    "## As sets wont allow duplicates, this will automatically remove the dulicates.\n",
    "## And returns the original values as below. "
   ]
  },
  {
   "cell_type": "code",
   "execution_count": 83,
   "id": "5534dd85",
   "metadata": {},
   "outputs": [
    {
     "data": {
      "text/plain": [
       "{'Cricket', 'foot ball', 'hockey'}"
      ]
     },
     "execution_count": 83,
     "metadata": {},
     "output_type": "execute_result"
    }
   ],
   "source": [
    "sports"
   ]
  },
  {
   "cell_type": "code",
   "execution_count": 84,
   "id": "6d775322",
   "metadata": {},
   "outputs": [
    {
     "name": "stdout",
     "output_type": "stream",
     "text": [
      "{'Scrambled Eggs', 'Dosa', 'Pongal', 'Parota', 'Idly', 'Bread and Jam', 'Chapathi'}\n"
     ]
    }
   ],
   "source": [
    "## Add() -> this method is used to add items in a set as we cannot change a set\n",
    "\n",
    "breakfast.add(\"Bread and Jam\")\n",
    "\n",
    "print(breakfast)"
   ]
  },
  {
   "cell_type": "code",
   "execution_count": 85,
   "id": "a8e61e80",
   "metadata": {},
   "outputs": [
    {
     "name": "stdout",
     "output_type": "stream",
     "text": [
      "{'foot ball', 'Idly', 'Cricket', 'Scrambled Eggs', 'Dosa', 'Pongal', 'Parota', 'hockey', 'Bread and Jam', 'Chapathi'}\n"
     ]
    }
   ],
   "source": [
    "## Update() -> We can also add two sets or with any iterables using update()\n",
    "\n",
    "breakfast.update(sports)\n",
    "\n",
    "print(breakfast)"
   ]
  },
  {
   "cell_type": "code",
   "execution_count": 86,
   "id": "5ec3de7e",
   "metadata": {},
   "outputs": [
    {
     "name": "stdout",
     "output_type": "stream",
     "text": [
      "breakfast:  {'foot ball', 'Cricket', 'Scrambled Eggs', 'Dosa', 'Pongal', 'Parota', 'hockey', 'Bread and Jam', 'Chapathi'}\n",
      "sports:  {'Cricket', 'hockey'}\n"
     ]
    }
   ],
   "source": [
    "## Remove() & Discard() -> To remove items forms sets\n",
    "\n",
    "breakfast.remove('Idly')\n",
    "print('breakfast: ', breakfast)\n",
    "\n",
    "sports.remove('foot ball')\n",
    "print(\"sports: \", sports)"
   ]
  },
  {
   "cell_type": "code",
   "execution_count": 88,
   "id": "8abe417a",
   "metadata": {},
   "outputs": [
    {
     "name": "stdout",
     "output_type": "stream",
     "text": [
      "sweets:  {'Kaju katli', 'Gulab jamoon', 'Galebi', 'Mothichur ladoo'}\n",
      "snacks:  {'Ghatiya', 'Samosa', 'Kachori'}\n"
     ]
    }
   ],
   "source": [
    "## Union() -> To join two or more sets\n",
    "\n",
    "sweets = {'Gulab jamoon', 'Kaju katli', 'Galebi', 'Mothichur ladoo'}\n",
    "snacks = {'Samosa', 'Kachori', 'Ghatiya'}\n",
    "\n",
    "print('sweets: ', sweets)\n",
    "print('snacks: ', snacks)"
   ]
  },
  {
   "cell_type": "code",
   "execution_count": 90,
   "id": "36d49eae",
   "metadata": {},
   "outputs": [
    {
     "name": "stdout",
     "output_type": "stream",
     "text": [
      "new set:  {'Galebi', 'Mothichur ladoo', 'Kachori', 'Ghatiya', 'Samosa', 'Gulab jamoon', 'Kaju katli'}\n"
     ]
    }
   ],
   "source": [
    "food = sweets.union(snacks)\n",
    "\n",
    "print(\"new set: \", food)"
   ]
  },
  {
   "cell_type": "code",
   "execution_count": 94,
   "id": "29c6d0de",
   "metadata": {},
   "outputs": [
    {
     "name": "stdout",
     "output_type": "stream",
     "text": [
      "{'Tourist', 'Navy', 'IT'}\n"
     ]
    }
   ],
   "source": [
    "## intersection_update() -> this method will keep only duplicates\n",
    "## Returns items present on both sides\n",
    "\n",
    "central_gov = {'Tourist', 'IT', 'Industrial', 'Manufacturing', 'Navy'}\n",
    "state_gov = {'IT', 'Home gaurd', 'Navy', 'Circle Inspector', 'Tourist'}\n",
    "\n",
    "central_gov.intersection_update(state_gov)\n",
    "print(central_gov)\n",
    "# The resulting items will be presented in both sets"
   ]
  },
  {
   "cell_type": "code",
   "execution_count": 95,
   "id": "19dd39b9",
   "metadata": {},
   "outputs": [
    {
     "name": "stdout",
     "output_type": "stream",
     "text": [
      "{'Circle Inspector', 'Home gaurd'}\n"
     ]
    }
   ],
   "source": [
    "## Symmetric_difference_update() -> method will keep only the elements that are NOT present in both sets. \n",
    "\n",
    "state_gov.symmetric_difference_update(central_gov)\n",
    "print(state_gov)"
   ]
  },
  {
   "cell_type": "markdown",
   "id": "24f5f416",
   "metadata": {},
   "source": [
    "## Tuples & In built Functions\n",
    "\n",
    "- Tuples are also used to store multiple items in a single variable.\n",
    "\n",
    "- Tuple is a collection which is ordered and unchangeable and allow duplicates.\n",
    "\n",
    "- Tuples are written in round brackets. "
   ]
  },
  {
   "cell_type": "code",
   "execution_count": 96,
   "id": "43cacad7",
   "metadata": {},
   "outputs": [
    {
     "name": "stdout",
     "output_type": "stream",
     "text": [
      "('Rohith shetty', 'Simba', 'Ranveer sign', 'Rohith shetty', 'Sara ali khan')\n"
     ]
    }
   ],
   "source": [
    "influencer = ('Rohith shetty', 'Simba', 'Ranveer sign', 'Rohith shetty', 'Sara ali khan')\n",
    "\n",
    "print(influencer)\n",
    "# Note that Rohith shetty is a duplicated item"
   ]
  },
  {
   "cell_type": "code",
   "execution_count": 99,
   "id": "8c0a16c4",
   "metadata": {},
   "outputs": [
    {
     "name": "stdout",
     "output_type": "stream",
     "text": [
      "influencer:  ('Rohith shetty', 'Simba', 'Ranveer sign', 'Rohith shetty', 'Sara ali khan')\n",
      "This item is repeated 2 times\n"
     ]
    }
   ],
   "source": [
    "## Count() -> Returns the number of times a specified value occurs in a tuple\n",
    "\n",
    "print('influencer: ', influencer)\n",
    "\n",
    "c = influencer.count('Rohith shetty')\n",
    "\n",
    "print('This item is repeated {} times'.format(c))"
   ]
  },
  {
   "cell_type": "code",
   "execution_count": 101,
   "id": "53b02ed8",
   "metadata": {},
   "outputs": [
    {
     "name": "stdout",
     "output_type": "stream",
     "text": [
      "nonveg:  ('chicken biryani', 'mutton biryani', 'prawns curry', 'chicken biryani', 'lamb chops', 'prawns curry')\n",
      "The item index is 2\n"
     ]
    }
   ],
   "source": [
    "## Index() -> This method gives you the first occurance of the specified value\n",
    "\n",
    "nonveg = ('chicken biryani', 'mutton biryani', 'prawns curry', 'chicken biryani', 'lamb chops', 'prawns curry')\n",
    "\n",
    "print('nonveg: ', nonveg)\n",
    "\n",
    "i = nonveg.index('prawns curry')\n",
    "print('The item index is {}'.format(i))"
   ]
  },
  {
   "cell_type": "markdown",
   "id": "de878d79",
   "metadata": {},
   "source": [
    "## Dictionaries & In built functions\n",
    "\n",
    "- clear() - Removes all the elements from the dictionary\n",
    "- copy() - Returns a copy of the dictionary\n",
    "- fromkeys() - Returns a dictionary with the specified keys and value\n",
    "- get() - Returns the value of the specified key\n",
    "- items() - Returns a list containing a tuple for each key value pair\n",
    "- keys() - Returns a list containing the dictionary's keys\n",
    "- pop() - Removes the element with the specified key\n",
    "- popitem() - Removes the last inserted key-value pair\n",
    "- setdefault() - Returns the value of the specified key. If the key does not exist: insert the key, with the specified value\n",
    "- update() - Updates the dictionary with the specified key-value pairs\n",
    "- values() - Returns a list of all the values in the dictionary"
   ]
  }
 ],
 "metadata": {
  "kernelspec": {
   "display_name": "Python 3",
   "language": "python",
   "name": "python3"
  },
  "language_info": {
   "codemirror_mode": {
    "name": "ipython",
    "version": 3
   },
   "file_extension": ".py",
   "mimetype": "text/x-python",
   "name": "python",
   "nbconvert_exporter": "python",
   "pygments_lexer": "ipython3",
   "version": "3.9.2"
  }
 },
 "nbformat": 4,
 "nbformat_minor": 5
}
