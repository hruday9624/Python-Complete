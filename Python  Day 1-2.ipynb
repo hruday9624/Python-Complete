{
 "cells": [
  {
   "cell_type": "markdown",
   "id": "f93bd674",
   "metadata": {},
   "source": [
    "# Table of Contents\n",
    "\n",
    "1. [Why Python](#Why-Python?)\n",
    "2. [Basic Arthematic Operations](#Basic-Arthematic-operations)\n",
    "3. [Python Variables](#Python-Variables)\n",
    "4. [Python Data Types](#Python-Data-Types)\n",
    "    - 4.1 [String](#Strings)\n",
    "    - 4.2 [Interger - Floating number](#Interger-Floating-number)\n",
    "    - 4.3 [Boolean](#Boolean)\n",
    "    \n",
    "5. [User Input](#User-Input)\n",
    "6. [Type Casting](#Type-Casting)\n",
    "    - 6.1 [Implicit Typecasting](#Implicit-Typecasting)\n",
    "    - 6.2 [Explicit Typecasting](#Explicit-Typecasting)\n",
    "    \n",
    "7. [Conditional Control Structures](#Conditional-Control-Structures)\n",
    "8. [Loops - For, While](#Loops)"
   ]
  },
  {
   "cell_type": "markdown",
   "id": "83b3b98f",
   "metadata": {},
   "source": [
    "## Why Python?\n",
    "\n",
    "1. Python is object oriented programing language.\n",
    "2. It is open source and free to use.\n",
    "3. It is easy to learn because of clear syntax and easy readability. \n",
    "4. Debugging and Interpolation is easy in Python. \n",
    "5. Python can be easily integrated with other programing languages."
   ]
  },
  {
   "cell_type": "markdown",
   "id": "ce8c99f7",
   "metadata": {},
   "source": [
    "## Basic Arthematic operations"
   ]
  },
  {
   "cell_type": "code",
   "execution_count": 1,
   "id": "986ac670",
   "metadata": {},
   "outputs": [
    {
     "data": {
      "text/plain": [
       "100"
      ]
     },
     "execution_count": 1,
     "metadata": {},
     "output_type": "execute_result"
    }
   ],
   "source": [
    "# Addition \n",
    "15 + 85 "
   ]
  },
  {
   "cell_type": "code",
   "execution_count": 2,
   "id": "0e4d59ba",
   "metadata": {},
   "outputs": [
    {
     "data": {
      "text/plain": [
       "19.5"
      ]
     },
     "execution_count": 2,
     "metadata": {},
     "output_type": "execute_result"
    }
   ],
   "source": [
    "# Subtraction\n",
    "20 - 0.5"
   ]
  },
  {
   "cell_type": "code",
   "execution_count": 3,
   "id": "66da080e",
   "metadata": {},
   "outputs": [
    {
     "data": {
      "text/plain": [
       "13680"
      ]
     },
     "execution_count": 3,
     "metadata": {},
     "output_type": "execute_result"
    }
   ],
   "source": [
    "# Multiplication\n",
    "1140 * 12"
   ]
  },
  {
   "cell_type": "code",
   "execution_count": 4,
   "id": "84003f9a",
   "metadata": {},
   "outputs": [
    {
     "data": {
      "text/plain": [
       "25.0"
      ]
     },
     "execution_count": 4,
     "metadata": {},
     "output_type": "execute_result"
    }
   ],
   "source": [
    "# Division \n",
    "100 / 4"
   ]
  },
  {
   "cell_type": "code",
   "execution_count": 5,
   "id": "803f5034",
   "metadata": {},
   "outputs": [
    {
     "data": {
      "text/plain": [
       "25.0"
      ]
     },
     "execution_count": 5,
     "metadata": {},
     "output_type": "execute_result"
    }
   ],
   "source": [
    "# Floored Division\n",
    "100.75 // 4 "
   ]
  },
  {
   "cell_type": "code",
   "execution_count": 6,
   "id": "89e76da9",
   "metadata": {},
   "outputs": [
    {
     "data": {
      "text/plain": [
       "1"
      ]
     },
     "execution_count": 6,
     "metadata": {},
     "output_type": "execute_result"
    }
   ],
   "source": [
    "# Modulo\n",
    "3%2"
   ]
  },
  {
   "cell_type": "code",
   "execution_count": 7,
   "id": "9ac318d6",
   "metadata": {},
   "outputs": [
    {
     "name": "stdout",
     "output_type": "stream",
     "text": [
      "The addition of a & b is:  24\n",
      "The subtraction of a from b is:  4\n",
      "The multiplication of a and b is:  140\n",
      "The division of a from b is:  1.4\n",
      "The floored division of a from b is:  1\n",
      "The modulo of a from b is:  4\n"
     ]
    }
   ],
   "source": [
    "a = 14\n",
    "b = 10 \n",
    "\n",
    "print('The addition of a & b is: ', a+b)\n",
    "print('The subtraction of a from b is: ', a-b)\n",
    "print('The multiplication of a and b is: ', a*b)\n",
    "print('The division of a from b is: ', a/b)\n",
    "print('The floored division of a from b is: ', a//b)\n",
    "print('The modulo of a from b is: ', a%b)"
   ]
  },
  {
   "cell_type": "code",
   "execution_count": null,
   "id": "5a5b1e11",
   "metadata": {},
   "outputs": [],
   "source": []
  },
  {
   "cell_type": "markdown",
   "id": "ee208942",
   "metadata": {},
   "source": [
    "## Python Variables\n",
    "\n",
    "- Variables are container which contain/store user defined data. \n",
    "- Python keywords cannot be used as variable names."
   ]
  },
  {
   "cell_type": "code",
   "execution_count": 9,
   "id": "07c4dfae",
   "metadata": {},
   "outputs": [
    {
     "ename": "SyntaxError",
     "evalue": "invalid syntax (<ipython-input-9-3d70f06aa078>, line 1)",
     "output_type": "error",
     "traceback": [
      "\u001b[1;36m  File \u001b[1;32m\"<ipython-input-9-3d70f06aa078>\"\u001b[1;36m, line \u001b[1;32m1\u001b[0m\n\u001b[1;33m    if = \"hello\" #if is a key word and so we are getting as an error\u001b[0m\n\u001b[1;37m       ^\u001b[0m\n\u001b[1;31mSyntaxError\u001b[0m\u001b[1;31m:\u001b[0m invalid syntax\n"
     ]
    }
   ],
   "source": [
    "if = \"hello\" #if is a key word and so we are getting as an error"
   ]
  },
  {
   "cell_type": "code",
   "execution_count": 10,
   "id": "b2c997ab",
   "metadata": {},
   "outputs": [
    {
     "data": {
      "text/plain": [
       "'Sanjay Dutt'"
      ]
     },
     "execution_count": 10,
     "metadata": {},
     "output_type": "execute_result"
    }
   ],
   "source": [
    "Hero = \"Sanjay Dutt\" ## Hero here is the variable containing the data sanjay dutt\n",
    "Hero"
   ]
  },
  {
   "cell_type": "code",
   "execution_count": 11,
   "id": "b0597109",
   "metadata": {},
   "outputs": [
    {
     "data": {
      "text/plain": [
       "589"
      ]
     },
     "execution_count": 11,
     "metadata": {},
     "output_type": "execute_result"
    }
   ],
   "source": [
    "Hero_ID = 589\n",
    "Hero_ID"
   ]
  },
  {
   "cell_type": "code",
   "execution_count": null,
   "id": "66c5e2c8",
   "metadata": {},
   "outputs": [],
   "source": []
  },
  {
   "cell_type": "markdown",
   "id": "613b75a6",
   "metadata": {},
   "source": [
    "## Python Data Types\n",
    "- Strings\n",
    "- Integers\n",
    "- Float \n",
    "- Booleans"
   ]
  },
  {
   "cell_type": "markdown",
   "id": "07d656b0",
   "metadata": {},
   "source": [
    "### Strings \n",
    "\n",
    "- Strings are the text data types which are stored in a variables in python. They are surrounded by single or double quotation marks, ' ' , \" \". \n",
    "\n",
    "- Python strings are immutable, anyway we can replace the string in a variable but we cannot change any alphabet in a current string or text. \n",
    "\n",
    "- To store multiple strings in a single variable we can use triple quotation marks''' '''. \n",
    "\n",
    "- We can use + symbol to concat two strings.\n",
    "\n",
    "- We cannot concatinate a string and a number(int type), but in order to perform this operation we should convert the number into a string.  \n"
   ]
  },
  {
   "cell_type": "code",
   "execution_count": 12,
   "id": "a5735381",
   "metadata": {},
   "outputs": [],
   "source": [
    "school1 = \"Byjus\"\n",
    "school2 = \"Toprr\" \n",
    "\n",
    "## Byjus and Toprr are strings stored in variables "
   ]
  },
  {
   "cell_type": "code",
   "execution_count": 13,
   "id": "52313274",
   "metadata": {},
   "outputs": [
    {
     "data": {
      "text/plain": [
       "str"
      ]
     },
     "execution_count": 13,
     "metadata": {},
     "output_type": "execute_result"
    }
   ],
   "source": [
    "type(school1)"
   ]
  },
  {
   "cell_type": "code",
   "execution_count": 14,
   "id": "e7bb4371",
   "metadata": {},
   "outputs": [
    {
     "name": "stdout",
     "output_type": "stream",
     "text": [
      "Slice 1:  B\n",
      "Slice 2:  s\n",
      "Slice 3:  u\n",
      "Slice 4:  Byjus\n",
      "Slice 5:  Byj\n",
      "Slice 6:  us\n",
      "Slice 7:  yjus\n"
     ]
    }
   ],
   "source": [
    "## String slicing \n",
    "print('Slice 1: ', school1[0])\n",
    "print('Slice 2: ', school1[-1])\n",
    "print('Slice 3: ', school1[3])\n",
    "print('Slice 4: ', school1[:])\n",
    "print('Slice 5: ', school1[:3])\n",
    "print('Slice 6: ', school1[3:])\n",
    "print('Slice 7: ', school1[1:]) "
   ]
  },
  {
   "cell_type": "markdown",
   "id": "087809a9",
   "metadata": {},
   "source": [
    "### Interger - Floating number\n",
    "\n",
    "There are two types of numbers in python\n",
    "- Integers which comes as whole numbers (5, 8, 10, 674, 851023)\n",
    "- Floating number which comes as fractional number (10.450, 56.0, 789.164)"
   ]
  },
  {
   "cell_type": "markdown",
   "id": "b4217e65",
   "metadata": {},
   "source": [
    "### Boolean \n",
    "\n",
    "- Boolean represents one of two values which is: True or False \n",
    "- We often some time need to evaluate an expression and once evaluated python returns a boolean answer either True or False."
   ]
  },
  {
   "cell_type": "code",
   "execution_count": 15,
   "id": "62c51e8a",
   "metadata": {},
   "outputs": [
    {
     "name": "stdout",
     "output_type": "stream",
     "text": [
      "True\n"
     ]
    }
   ],
   "source": [
    "print(10 == 10)"
   ]
  },
  {
   "cell_type": "code",
   "execution_count": 16,
   "id": "df9ed407",
   "metadata": {},
   "outputs": [
    {
     "name": "stdout",
     "output_type": "stream",
     "text": [
      "False\n"
     ]
    }
   ],
   "source": [
    "print(14 == 156)"
   ]
  },
  {
   "cell_type": "code",
   "execution_count": null,
   "id": "36a31334",
   "metadata": {},
   "outputs": [],
   "source": []
  },
  {
   "cell_type": "markdown",
   "id": "6bee6b1b",
   "metadata": {},
   "source": [
    "## User Input\n",
    "\n",
    "- In python we have a function called input() which on excecution asks the user to give the inputs, once the input is given then fuction stops and prints the output. "
   ]
  },
  {
   "cell_type": "code",
   "execution_count": 18,
   "id": "b629e8c5",
   "metadata": {},
   "outputs": [
    {
     "name": "stdout",
     "output_type": "stream",
     "text": [
      "Movie name: KGF\n",
      "The latest added movie is:  KGF\n"
     ]
    }
   ],
   "source": [
    "Movie_name = input('Movie name: ')\n",
    "print('The latest added movie is: ', Movie_name)"
   ]
  },
  {
   "cell_type": "code",
   "execution_count": null,
   "id": "df3650d6",
   "metadata": {},
   "outputs": [],
   "source": []
  },
  {
   "cell_type": "markdown",
   "id": "68a32cb5",
   "metadata": {},
   "source": [
    "## Type Casting\n",
    "\n",
    "- The process of converting the data type of a variable into another valid data type is known as Typecasting. \n",
    "- There are two methods of typecasting \n",
    "    1. Implicit Typecasting\n",
    "    2. Explicit Typecasting\n",
    "\n",
    "### Implicit Typecasting\n",
    "- In implicit typecasting the compiler typecasts from one data type of a variable into another data type with out external action of the user. \n",
    "\n",
    "### Explicit Typecasting\n",
    "- Here the user explicitly forces the compiler to typecast the data type of a varible to another data type.\n",
    "- There are two ways to perform explicit typecast:\n",
    "    1. Interger to String or Float.\n",
    "    2. Float to Integer."
   ]
  },
  {
   "cell_type": "code",
   "execution_count": 19,
   "id": "0fb174db",
   "metadata": {},
   "outputs": [],
   "source": [
    "## Implicit Typecasting\n",
    "\n",
    "a = 142.56 # Float data type\n",
    "b = 28 # Integer data type\n",
    "\n",
    "c = a+b #Implicitly Typecasted into float data type for precise answer"
   ]
  },
  {
   "cell_type": "code",
   "execution_count": 20,
   "id": "c33dc1ab",
   "metadata": {},
   "outputs": [
    {
     "data": {
      "text/plain": [
       "170.56"
      ]
     },
     "execution_count": 20,
     "metadata": {},
     "output_type": "execute_result"
    }
   ],
   "source": [
    "c"
   ]
  },
  {
   "cell_type": "code",
   "execution_count": 21,
   "id": "20671cb4",
   "metadata": {},
   "outputs": [
    {
     "data": {
      "text/plain": [
       "float"
      ]
     },
     "execution_count": 21,
     "metadata": {},
     "output_type": "execute_result"
    }
   ],
   "source": [
    "type(c)"
   ]
  },
  {
   "cell_type": "code",
   "execution_count": 22,
   "id": "88ed0ebc",
   "metadata": {},
   "outputs": [
    {
     "data": {
      "text/plain": [
       "170"
      ]
     },
     "execution_count": 22,
     "metadata": {},
     "output_type": "execute_result"
    }
   ],
   "source": [
    "## Explicit Typecasting\n",
    "# Float to Integer \n",
    "int(c) #explicitly typecasting float to integer 170.56 -> 170"
   ]
  },
  {
   "cell_type": "code",
   "execution_count": 23,
   "id": "e8564628",
   "metadata": {},
   "outputs": [
    {
     "data": {
      "text/plain": [
       "28.0"
      ]
     },
     "execution_count": 23,
     "metadata": {},
     "output_type": "execute_result"
    }
   ],
   "source": [
    "# Integer to float\n",
    "float(b) #explicitly typecasting integer to float 28 -> 28.0 "
   ]
  },
  {
   "cell_type": "code",
   "execution_count": 24,
   "id": "a9b91cc0",
   "metadata": {},
   "outputs": [
    {
     "data": {
      "text/plain": [
       "'28'"
      ]
     },
     "execution_count": 24,
     "metadata": {},
     "output_type": "execute_result"
    }
   ],
   "source": [
    "# Integer to String\n",
    "str(b) #explicitly typecasting integer to string 28 -> '28'"
   ]
  },
  {
   "cell_type": "code",
   "execution_count": null,
   "id": "9eb3e8b3",
   "metadata": {},
   "outputs": [],
   "source": []
  },
  {
   "cell_type": "markdown",
   "id": "2a7f33ea",
   "metadata": {},
   "source": [
    "## Conditional Control Structures\n",
    "- If statements\n",
    "- Elif statements\n",
    "- Else statements"
   ]
  },
  {
   "cell_type": "markdown",
   "id": "3d6a0248",
   "metadata": {},
   "source": [
    "### If statements\n",
    "\n",
    "- If statements are conditional statements which excecutes an operation when the given conditon evaluates to be true.  "
   ]
  },
  {
   "cell_type": "code",
   "execution_count": 25,
   "id": "8893c40a",
   "metadata": {},
   "outputs": [
    {
     "name": "stdout",
     "output_type": "stream",
     "text": [
      "this is true\n"
     ]
    }
   ],
   "source": [
    "if 250 - 250 == 0:\n",
    "    print('this is true')"
   ]
  },
  {
   "cell_type": "code",
   "execution_count": 26,
   "id": "44f536b7",
   "metadata": {},
   "outputs": [
    {
     "name": "stdout",
     "output_type": "stream",
     "text": [
      "True\n"
     ]
    }
   ],
   "source": [
    "dinner = 100\n",
    "\n",
    "if dinner - 50 == 50:\n",
    "    print('True')"
   ]
  },
  {
   "cell_type": "markdown",
   "id": "ee831750",
   "metadata": {},
   "source": [
    "### Elif statements\n",
    "\n",
    "- Elif statements are used in conjunction to if statement which performs the given conditional statement only when the if condition evaluates to be false:\n",
    "\n",
    "### Else statements \n",
    "\n",
    "- Else statements are the end of the conditonal statements which performs/excecutes its conditional statement only when either of the if condition and the elif condition evaluates to be true.  "
   ]
  },
  {
   "cell_type": "code",
   "execution_count": 28,
   "id": "fbf35938",
   "metadata": {},
   "outputs": [
    {
     "name": "stdout",
     "output_type": "stream",
     "text": [
      "Enter your desired bike number: 25\n",
      "This number is available\n"
     ]
    }
   ],
   "source": [
    "# Check availability of bike registration number\n",
    "bike_reg_numb = int(input('Enter your desired bike number: '))\n",
    "\n",
    "if bike_reg_numb < 10:\n",
    "    print('This number unavailable')\n",
    "else:\n",
    "    print('This number is available')"
   ]
  },
  {
   "cell_type": "code",
   "execution_count": null,
   "id": "48809493",
   "metadata": {},
   "outputs": [],
   "source": []
  },
  {
   "cell_type": "markdown",
   "id": "4ad1e9e8",
   "metadata": {},
   "source": [
    "## Loops\n",
    "\n",
    "- Loops in python allow us to perform certain operations for multiple times until some conditon is met. \n",
    "- Different types of Loops: \n",
    "    1. For Loops\n",
    "    2. While Loops"
   ]
  },
  {
   "cell_type": "markdown",
   "id": "2cfdcb5b",
   "metadata": {},
   "source": [
    "### For Loops\n",
    "\n",
    "- For loops are used to iterate iterables like tupes, lists, string, etc. until some condition is met. \n",
    "    - For loops with range()\n",
    "    - For loops with range(start, stop, step)\n",
    "    - For loops with in. [This is used to iterate over all the elements in a python container like tuples, lists, dictionary.. etc.]\n",
    "    \n",
    "### While Loops\n",
    "\n",
    "- While loops are used to excecute a set of statements within the block untill the associated loop condition is evaluated to be true.  "
   ]
  },
  {
   "cell_type": "code",
   "execution_count": 29,
   "id": "26fe2c29",
   "metadata": {},
   "outputs": [
    {
     "name": "stdout",
     "output_type": "stream",
     "text": [
      "0\n",
      "2\n",
      "4\n",
      "6\n",
      "8\n",
      "10\n",
      "12\n",
      "14\n"
     ]
    }
   ],
   "source": [
    "# For loop with range()\n",
    "\n",
    "for i in range (8):\n",
    "    print(i*2)"
   ]
  },
  {
   "cell_type": "code",
   "execution_count": 30,
   "id": "3feeffc7",
   "metadata": {},
   "outputs": [
    {
     "name": "stdout",
     "output_type": "stream",
     "text": [
      "10\n",
      "11\n",
      "12\n",
      "13\n",
      "14\n",
      "15\n",
      "16\n",
      "17\n",
      "18\n",
      "19\n"
     ]
    }
   ],
   "source": [
    "for i in range(10):\n",
    "    print(i+10)"
   ]
  },
  {
   "cell_type": "code",
   "execution_count": 31,
   "id": "b27c9916",
   "metadata": {},
   "outputs": [
    {
     "name": "stdout",
     "output_type": "stream",
     "text": [
      "4\n",
      "25\n",
      "64\n",
      "121\n",
      "196\n",
      "289\n",
      "400\n",
      "529\n"
     ]
    }
   ],
   "source": [
    "# For loop with range(Start, stop, step)\n",
    "\n",
    "for i in range(2, 25, 3):\n",
    "    print(i*i)"
   ]
  },
  {
   "cell_type": "code",
   "execution_count": 32,
   "id": "b6a42741",
   "metadata": {},
   "outputs": [
    {
     "name": "stdout",
     "output_type": "stream",
     "text": [
      "-4\n",
      "1\n",
      "6\n",
      "11\n",
      "16\n",
      "21\n",
      "26\n",
      "31\n",
      "36\n",
      "41\n"
     ]
    }
   ],
   "source": [
    "for i in range(1, 50, 5):\n",
    "    print(i-5)"
   ]
  },
  {
   "cell_type": "code",
   "execution_count": 33,
   "id": "678e8cc0",
   "metadata": {},
   "outputs": [
    {
     "name": "stdout",
     "output_type": "stream",
     "text": [
      "50\n",
      "108\n",
      "178\n",
      "118\n",
      "144\n",
      "90\n",
      "70\n"
     ]
    }
   ],
   "source": [
    "# For loops with in\n",
    "marks = [25, 54, 89, 59, 72, 45, 35]\n",
    "for i in marks:\n",
    "    print(i+i)"
   ]
  },
  {
   "cell_type": "code",
   "execution_count": 34,
   "id": "a684d892",
   "metadata": {},
   "outputs": [
    {
     "name": "stdout",
     "output_type": "stream",
     "text": [
      "1\n",
      "1.5\n",
      "2.0\n",
      "2.5\n",
      "3.0\n",
      "3.5\n",
      "4.0\n",
      "4.5\n",
      "5.0\n"
     ]
    }
   ],
   "source": [
    "i = 1\n",
    "\n",
    "while i<=5:\n",
    "    print(i)\n",
    "    i = i+0.5"
   ]
  },
  {
   "cell_type": "code",
   "execution_count": 35,
   "id": "04e88124",
   "metadata": {},
   "outputs": [
    {
     "name": "stdout",
     "output_type": "stream",
     "text": [
      "4\n",
      "3\n",
      "2\n",
      "1\n",
      "0\n"
     ]
    }
   ],
   "source": [
    "n = 5\n",
    "while n > 0:\n",
    "    n = n - 1\n",
    "    print(n)"
   ]
  },
  {
   "cell_type": "code",
   "execution_count": null,
   "id": "8409ff80",
   "metadata": {},
   "outputs": [],
   "source": []
  },
  {
   "cell_type": "code",
   "execution_count": null,
   "id": "38a61756",
   "metadata": {},
   "outputs": [],
   "source": []
  }
 ],
 "metadata": {
  "kernelspec": {
   "display_name": "Python 3",
   "language": "python",
   "name": "python3"
  },
  "language_info": {
   "codemirror_mode": {
    "name": "ipython",
    "version": 3
   },
   "file_extension": ".py",
   "mimetype": "text/x-python",
   "name": "python",
   "nbconvert_exporter": "python",
   "pygments_lexer": "ipython3",
   "version": "3.9.2"
  }
 },
 "nbformat": 4,
 "nbformat_minor": 5
}
